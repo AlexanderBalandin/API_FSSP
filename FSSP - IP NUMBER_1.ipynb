{
 "cells": [
  {
   "cell_type": "code",
   "execution_count": 1,
   "metadata": {},
   "outputs": [],
   "source": [
    "#загружаем необходимые библиотеки\n",
    "import pandas as pd\n",
    "import json\n",
    "import requests\n",
    "import time\n",
    "import traceback\n",
    "import os\n",
    "from tkinter import Tk\n",
    "from tkinter.filedialog import askopenfilename\n",
    "from tkinter.filedialog import askdirectory"
   ]
  },
  {
   "cell_type": "code",
   "execution_count": 2,
   "metadata": {},
   "outputs": [
    {
     "name": "stdout",
     "output_type": "stream",
     "text": [
      "Python 3.8.8\n"
     ]
    }
   ],
   "source": [
    "!python --version"
   ]
  },
  {
   "cell_type": "code",
   "execution_count": 3,
   "metadata": {},
   "outputs": [
    {
     "name": "stdout",
     "output_type": "stream",
     "text": [
      "pandas  1.2.4\n",
      "json  2.0.9\n",
      "requests  2.25.1\n",
      "time  time\n",
      "traceback  traceback\n",
      "os  os\n",
      "tkinter  tkinter\n"
     ]
    }
   ],
   "source": [
    "print('pandas ', pd.__version__)\n",
    "print('json ', json.__version__)\n",
    "print('requests ', requests.__version__)\n",
    "print('time ', time.__name__)\n",
    "print('traceback ', traceback.__name__)\n",
    "print('os ', os.__name__)\n",
    "print('tkinter ', Tk.__module__)"
   ]
  },
  {
   "cell_type": "code",
   "execution_count": 4,
   "metadata": {},
   "outputs": [],
   "source": [
    "#функция для сохранения результата запросов IP NUMBER\n",
    "def results_save(js_res):\n",
    "    number = []\n",
    "    name = []\n",
    "    exe_prod = []\n",
    "    details = []\n",
    "    subj = []\n",
    "    depart = []\n",
    "    bailiff = []\n",
    "    ip_end =[]\n",
    "    \n",
    "    for i in js_res['response']['result']:\n",
    "# обработка не найденных в банке данных ИП  (вероятно фиктивные номера или введенные с ошибкой) надо объединить эти условия\n",
    "        if i['result'] == [] or i['result'] == None:\n",
    "                number.append((i['query']['params'])['number'])\n",
    "                name.append('empty')\n",
    "                exe_prod.append('empty')\n",
    "                details.append('empty')\n",
    "                subj.append('empty')\n",
    "                depart.append('empty')\n",
    "                bailiff.append('empty')\n",
    "                ip_end.append('empty')\n",
    "        \n",
    "#обработка номеров ИП имеющих заведомо некорректный формат\n",
    "        elif i['result'] == {'code': 0, 'message': 'The given data was invalid.', 'errors': {'number': ['Поле number имеет ошибочный формат.']}}:\n",
    "            number.append((i['query']['params'])['number'])\n",
    "            name.append('Поле number имеет ошибочный формат.')\n",
    "            exe_prod.append('Поле number имеет ошибочный формат.')\n",
    "            details.append('Поле number имеет ошибочный формат.')\n",
    "            subj.append('Поле number имеет ошибочный формат.')\n",
    "            depart.append('Поле number имеет ошибочный формат.')\n",
    "            bailiff.append('Поле number имеет ошибочный формат.')\n",
    "            ip_end.append('Поле number имеет ошибочный формат.')      \n",
    "        else:\n",
    "# обработка найденных ИП\n",
    "            if len(i['result']) == 1:\n",
    "                for j in (i['result']):\n",
    "                    number.append((i['query']['params'])['number'])\n",
    "                    name.append(str((j)['name']))\n",
    "                    exe_prod.append((j)['exe_production'])\n",
    "                    details.append((j)['details'])\n",
    "                    subj.append((j)['subject'])\n",
    "                    depart.append((j)['department'])\n",
    "                    bailiff.append((j)['bailiff'])\n",
    "                    ip_end.append((j)['ip_end'])\n",
    "            else:\n",
    "                #корректировка списка number для компенсации дублей\n",
    "                qnt = 0\n",
    "                while qnt < (len(i['result'])):\n",
    "                    number.append((i['query']['params'])['number'])\n",
    "                    qnt += 1\n",
    "                \n",
    "                for dbl in (i['result']):\n",
    "                    name.append((dbl)['name'])\n",
    "                    exe_prod.append((dbl)['exe_production'])\n",
    "                    details.append((dbl)['details'])\n",
    "                    subj.append((dbl)['subject'])\n",
    "                    depart.append((dbl)['department'])\n",
    "                    bailiff.append((dbl)['bailiff'])\n",
    "                    ip_end.append((dbl)['ip_end'])\n",
    "                                \n",
    "#    сборка результатов                 \n",
    "    query_results = pd.DataFrame({'number' : number, 'name' : name,'exe_prod' : exe_prod,'details' : details,'subj' : subj,'depart' : bailiff,'ip_end' : ip_end})\n",
    "    return query_results"
   ]
  },
  {
   "cell_type": "code",
   "execution_count": 5,
   "metadata": {},
   "outputs": [
    {
     "name": "stdout",
     "output_type": "stream",
     "text": [
      "D:/work/FSSP/ip.xlsx\n"
     ]
    }
   ],
   "source": [
    "#выбор файла с входными данными\n",
    "root = Tk()\n",
    "filename = askopenfilename()\n",
    "print(filename)\n",
    "\n",
    "#выбор целевого каталога (туда мы сохраним результат)\n",
    "target_path = askdirectory(title = 'Выбор каталога для выгрузки результата',initialdir = os.path.expanduser(u'C://'))\n",
    "target_path = target_path.replace(r\"/\",\"\\\\\")\n",
    "root.destroy()"
   ]
  },
  {
   "cell_type": "code",
   "execution_count": 6,
   "metadata": {},
   "outputs": [
    {
     "name": "stdout",
     "output_type": "stream",
     "text": [
      "загружено  309  строк\n"
     ]
    }
   ],
   "source": [
    "#загружаем входные данные\n",
    "ip = pd.read_excel(filename)\n",
    "# total_list = ip['ip'].to_list()\n",
    "print('загружено ',len(ip),' строк')"
   ]
  },
  {
   "cell_type": "code",
   "execution_count": 7,
   "metadata": {},
   "outputs": [],
   "source": [
    "#разметка входных данных по \"батчам\" - по 50 клиентов (ограничение API)\n",
    "ip['batch'] = ip.index//50 + 1"
   ]
  },
  {
   "cell_type": "code",
   "execution_count": 9,
   "metadata": {
    "scrolled": true
   },
   "outputs": [
    {
     "name": "stdout",
     "output_type": "stream",
     "text": [
      "Сессия -  1 \n",
      "\n",
      "{'status': 'success', 'code': 0, 'exception': '', 'response': {'task': '77cd00b1-39bb-4681-bb6b-3361afa18944'}}\n",
      "{'status': 'success', 'code': 0, 'exception': '', 'response': {'status': 1, 'progress': '0 of 50'}}\n",
      "50 of 50 \n",
      "\n",
      "Сессия -  2 \n",
      "\n",
      "{'status': 'success', 'code': 0, 'exception': '', 'response': {'task': '8ed66957-f7e5-44fd-852d-65095ec233c2'}}\n",
      "{'status': 'success', 'code': 0, 'exception': '', 'response': {'status': 1, 'progress': '0 of 50'}}\n",
      "50 of 50 \n",
      "\n",
      "Сессия -  3 \n",
      "\n",
      "{'status': 'success', 'code': 0, 'exception': '', 'response': {'task': '31b22592-d4bc-47cc-bfc5-7f9c3532bb32'}}\n",
      "{'status': 'success', 'code': 0, 'exception': '', 'response': {'status': 1, 'progress': '0 of 50'}}\n",
      "50 of 50 \n",
      "\n",
      "Сессия -  4 \n",
      "\n",
      "{'status': 'success', 'code': 0, 'exception': '', 'response': {'task': 'd58d494d-9f87-4abf-b9b0-a0ab337087e1'}}\n",
      "{'status': 'success', 'code': 0, 'exception': '', 'response': {'status': 2, 'progress': '0 of 50'}}\n",
      "50 of 50 \n",
      "\n",
      "Сессия -  5 \n",
      "\n",
      "{'status': 'success', 'code': 0, 'exception': '', 'response': {'task': 'e2692912-1bde-48cb-895c-48212b78c240'}}\n",
      "{'status': 'success', 'code': 0, 'exception': '', 'response': {'status': 1, 'progress': '3 of 50'}}\n",
      "50 of 50 \n",
      "\n",
      "Сессия -  6 \n",
      "\n",
      "{'status': 'success', 'code': 0, 'exception': '', 'response': {'task': '529ed620-0b52-4bd2-9dfd-20b0296d1e30'}}\n",
      "{'status': 'success', 'code': 0, 'exception': '', 'response': {'status': 2, 'progress': '0 of 50'}}\n",
      "50 of 50 \n",
      "\n",
      "Сессия -  7 \n",
      "\n",
      "{'status': 'success', 'code': 0, 'exception': '', 'response': {'task': 'c305d945-e0eb-4000-b12a-a0b78a6f690b'}}\n",
      "{'status': 'success', 'code': 0, 'exception': '', 'response': {'status': 2, 'progress': '0 of 9'}}\n",
      "9 of 9 \n",
      "\n",
      "Выгружено  309  строк\n"
     ]
    }
   ],
   "source": [
    "#основной модуль\n",
    "\n",
    "#инициализация результирующего датафрейма, инициализвция переменной, в которой хранится ключ доступа\n",
    "summary = pd.DataFrame()\n",
    "token = '***********'\n",
    "\n",
    "#--------------------------------------------------------> эта часть должна быть вынесена в отдельную функцию, их будет три вида в зависимости от типа запроса, подгружаться должна будет выбранная опцию\n",
    "#формирование входного JSON объекта\n",
    "for i in list(ip['batch'].unique()):\n",
    "    dic = {}\n",
    "    rq = []\n",
    "    js = ''\n",
    "    print('Сессия - ',i,'\\n')\n",
    "    for j in ip[ip['batch'] == i].index:\n",
    "        rq.append({'type':3,'params':{'number':ip['ip'][j]}})\n",
    "    dic = {'token':token,'request':rq}\n",
    "    js = json.dumps(dic)\n",
    "#     print(rq)\n",
    "#-------------------------------------------------------->    \n",
    "\n",
    "#отправка группового запроса\n",
    "##перед отправкой отчета неплохо бы проверить статус предыдущей задачи\n",
    "    headers = {'accept': 'application/json','Content-Type': 'application/json'}\n",
    "\n",
    "    try:\n",
    "        response = requests.post('https://api-ip.fssp.gov.ru/api/v1.0/search/group', headers=headers, data=js)\n",
    "        js_task = json.loads(response.content)\n",
    "        print(js_task)\n",
    "    except:\n",
    "        print(sys.exc_info())\n",
    "\n",
    "    \n",
    "    while js_task['exception'] == 'Дождитесь результата предыдущего группового запроса':\n",
    "        time.sleep(20)\n",
    "        response = requests.post('https://api-ip.fssp.gov.ru/api/v1.0/search/group', headers=headers, data=js)\n",
    "        js_task = json.loads(response.content)\n",
    "    \n",
    "#отправка запросов о статусе задачи и о выгрузке результата\n",
    "    headers = {'accept': 'application/json'}\n",
    "    params = (('token', token),('task', (js_task['response'])['task']))\n",
    "    \n",
    "##запрос статуса задачи - надо сделать отдельной функцией\n",
    "    status = requests.get('https://api-ip.fssp.gov.ru/api/v1.0/status', headers=headers, params=params)\n",
    "    js_status = json.loads(status.content)\n",
    "    print(js_status)\n",
    "    time.sleep(3)\n",
    "    \n",
    "##надо переделать при наступлении третьего статуса все вывалится в ошибку / возможно эта проверка вообще избыточна\n",
    "    while (js_status['code'] != 0) and (js_status['response']['progress']) != '50 of 50':\n",
    "        time.sleep(20)\n",
    "        status = requests.get('https://api-ip.fssp.gov.ru/api/v1.0/status', headers=headers, params=params)\n",
    "        js_status = json.loads(status.content)\n",
    "        print(js_status['code'])\n",
    "        print(js_status['response']['progress'])\n",
    "\n",
    "##получение результатов запроса\n",
    "    try:\n",
    "        response1 = requests.get('https://api-ip.fssp.gov.ru/api/v1.0/result', headers=headers, params=params)\n",
    "        js_res = json.loads(response1.content)\n",
    "    except:\n",
    "        print(sys.exc_info())\n",
    "    time.sleep(3)\n",
    "    \n",
    "    while (js_res['code'] != 2) and (js_res['response']['task_end'] is None):\n",
    "        time.sleep(20)\n",
    "        response1 = requests.get('https://api-ip.fssp.gov.ru/api/v1.0/result', headers=headers, params=params)\n",
    "        js_res = json.loads(response1.content)\n",
    "\n",
    "#этот блок обработки ответов на запрос (надо доработать)\n",
    "#     if js_res['code'] == 0:\n",
    "#         print('keep go on')\n",
    "#         #put save function\n",
    "#     if js_res['code'] == 3:\n",
    "#         print('error')\n",
    "#         #print errors reason\n",
    "#     print('next','\\n')\n",
    "    \n",
    "#проверка полноты отработки группового запроса\n",
    "    status = requests.get('https://api-ip.fssp.gov.ru/api/v1.0/status', headers=headers, params=params)\n",
    "    js_status = json.loads(status.content)\n",
    "    print(js_status['response']['progress'],'\\n')  \n",
    "\n",
    "#сохранение ответа на запрос в результирующий датафрейм\n",
    "    summary = summary.append(results_save(js_res))\n",
    "\n",
    "#выгрузка результатов в файл в ранее выбранный каталог\n",
    "summary.to_excel(os.path.join(target_path,'summary_result_test1.xlsx'))\n",
    "print('Выгружено ',len(summary),' строк')"
   ]
  }
 ],
 "metadata": {
  "kernelspec": {
   "display_name": "Python 3",
   "language": "python",
   "name": "python3"
  },
  "language_info": {
   "codemirror_mode": {
    "name": "ipython",
    "version": 3
   },
   "file_extension": ".py",
   "mimetype": "text/x-python",
   "name": "python",
   "nbconvert_exporter": "python",
   "pygments_lexer": "ipython3",
   "version": "3.8.8"
  }
 },
 "nbformat": 4,
 "nbformat_minor": 4
}
